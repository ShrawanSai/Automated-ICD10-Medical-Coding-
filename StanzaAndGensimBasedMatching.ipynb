{
  "nbformat": 4,
  "nbformat_minor": 0,
  "metadata": {
    "colab": {
      "name": "StanzaAndGensimBasedMatching",
      "provenance": [],
      "collapsed_sections": []
    },
    "kernelspec": {
      "name": "python3",
      "display_name": "Python 3"
    }
  },
  "cells": [
    {
      "cell_type": "code",
      "metadata": {
        "id": "56xborGa6GY0",
        "colab_type": "code",
        "colab": {}
      },
      "source": [
        "import timeit\n",
        "start_time = timeit.default_timer()\n"
      ],
      "execution_count": 1,
      "outputs": []
    },
    {
      "cell_type": "code",
      "metadata": {
        "id": "DkgVOgSo1xi-",
        "colab_type": "code",
        "colab": {
          "base_uri": "https://localhost:8080/",
          "height": 541
        },
        "outputId": "d5a0769f-566d-4323-bd15-d0ea5057620d"
      },
      "source": [
        "!pip install --upgrade gensim\n",
        "!pip install stanza"
      ],
      "execution_count": 2,
      "outputs": [
        {
          "output_type": "stream",
          "text": [
            "Requirement already up-to-date: gensim in /usr/local/lib/python3.6/dist-packages (3.8.3)\n",
            "Requirement already satisfied, skipping upgrade: scipy>=0.18.1 in /usr/local/lib/python3.6/dist-packages (from gensim) (1.4.1)\n",
            "Requirement already satisfied, skipping upgrade: numpy>=1.11.3 in /usr/local/lib/python3.6/dist-packages (from gensim) (1.18.5)\n",
            "Requirement already satisfied, skipping upgrade: six>=1.5.0 in /usr/local/lib/python3.6/dist-packages (from gensim) (1.15.0)\n",
            "Requirement already satisfied, skipping upgrade: smart-open>=1.8.1 in /usr/local/lib/python3.6/dist-packages (from gensim) (2.1.0)\n",
            "Requirement already satisfied, skipping upgrade: boto in /usr/local/lib/python3.6/dist-packages (from smart-open>=1.8.1->gensim) (2.49.0)\n",
            "Requirement already satisfied, skipping upgrade: requests in /usr/local/lib/python3.6/dist-packages (from smart-open>=1.8.1->gensim) (2.23.0)\n",
            "Requirement already satisfied, skipping upgrade: boto3 in /usr/local/lib/python3.6/dist-packages (from smart-open>=1.8.1->gensim) (1.14.33)\n",
            "Requirement already satisfied, skipping upgrade: urllib3!=1.25.0,!=1.25.1,<1.26,>=1.21.1 in /usr/local/lib/python3.6/dist-packages (from requests->smart-open>=1.8.1->gensim) (1.24.3)\n",
            "Requirement already satisfied, skipping upgrade: certifi>=2017.4.17 in /usr/local/lib/python3.6/dist-packages (from requests->smart-open>=1.8.1->gensim) (2020.6.20)\n",
            "Requirement already satisfied, skipping upgrade: chardet<4,>=3.0.2 in /usr/local/lib/python3.6/dist-packages (from requests->smart-open>=1.8.1->gensim) (3.0.4)\n",
            "Requirement already satisfied, skipping upgrade: idna<3,>=2.5 in /usr/local/lib/python3.6/dist-packages (from requests->smart-open>=1.8.1->gensim) (2.10)\n",
            "Requirement already satisfied, skipping upgrade: botocore<1.18.0,>=1.17.33 in /usr/local/lib/python3.6/dist-packages (from boto3->smart-open>=1.8.1->gensim) (1.17.33)\n",
            "Requirement already satisfied, skipping upgrade: jmespath<1.0.0,>=0.7.1 in /usr/local/lib/python3.6/dist-packages (from boto3->smart-open>=1.8.1->gensim) (0.10.0)\n",
            "Requirement already satisfied, skipping upgrade: s3transfer<0.4.0,>=0.3.0 in /usr/local/lib/python3.6/dist-packages (from boto3->smart-open>=1.8.1->gensim) (0.3.3)\n",
            "Requirement already satisfied, skipping upgrade: docutils<0.16,>=0.10 in /usr/local/lib/python3.6/dist-packages (from botocore<1.18.0,>=1.17.33->boto3->smart-open>=1.8.1->gensim) (0.15.2)\n",
            "Requirement already satisfied, skipping upgrade: python-dateutil<3.0.0,>=2.1 in /usr/local/lib/python3.6/dist-packages (from botocore<1.18.0,>=1.17.33->boto3->smart-open>=1.8.1->gensim) (2.8.1)\n",
            "Requirement already satisfied: stanza in /usr/local/lib/python3.6/dist-packages (1.0.1)\n",
            "Requirement already satisfied: requests in /usr/local/lib/python3.6/dist-packages (from stanza) (2.23.0)\n",
            "Requirement already satisfied: numpy in /usr/local/lib/python3.6/dist-packages (from stanza) (1.18.5)\n",
            "Requirement already satisfied: protobuf in /usr/local/lib/python3.6/dist-packages (from stanza) (3.12.4)\n",
            "Requirement already satisfied: torch>=1.3.0 in /usr/local/lib/python3.6/dist-packages (from stanza) (1.6.0+cu101)\n",
            "Requirement already satisfied: tqdm in /usr/local/lib/python3.6/dist-packages (from stanza) (4.41.1)\n",
            "Requirement already satisfied: chardet<4,>=3.0.2 in /usr/local/lib/python3.6/dist-packages (from requests->stanza) (3.0.4)\n",
            "Requirement already satisfied: idna<3,>=2.5 in /usr/local/lib/python3.6/dist-packages (from requests->stanza) (2.10)\n",
            "Requirement already satisfied: urllib3!=1.25.0,!=1.25.1,<1.26,>=1.21.1 in /usr/local/lib/python3.6/dist-packages (from requests->stanza) (1.24.3)\n",
            "Requirement already satisfied: certifi>=2017.4.17 in /usr/local/lib/python3.6/dist-packages (from requests->stanza) (2020.6.20)\n",
            "Requirement already satisfied: six>=1.9 in /usr/local/lib/python3.6/dist-packages (from protobuf->stanza) (1.15.0)\n",
            "Requirement already satisfied: setuptools in /usr/local/lib/python3.6/dist-packages (from protobuf->stanza) (49.2.0)\n",
            "Requirement already satisfied: future in /usr/local/lib/python3.6/dist-packages (from torch>=1.3.0->stanza) (0.16.0)\n"
          ],
          "name": "stdout"
        }
      ]
    },
    {
      "cell_type": "code",
      "metadata": {
        "id": "FkA03w0D21FL",
        "colab_type": "code",
        "colab": {}
      },
      "source": [
        "import warnings\n",
        "warnings.filterwarnings('ignore')"
      ],
      "execution_count": 3,
      "outputs": []
    },
    {
      "cell_type": "code",
      "metadata": {
        "id": "srMWJ3p20O_W",
        "colab_type": "code",
        "colab": {
          "base_uri": "https://localhost:8080/",
          "height": 50
        },
        "outputId": "47119670-268e-45b9-d1c7-306f460884be"
      },
      "source": [
        "\n",
        "import docsim\n",
        "\n",
        "\n",
        "docsim_obj = docsim.DocSim(verbose=False)\n",
        "print(f'Model ready: {docsim_obj.model_ready}')\n",
        "\n",
        "#docsimthread = docsim.DocSim_threaded(verbose=True)\n",
        "\n",
        "query_string = 'fruit and vegetables'\n",
        "documents = ['cars drive on the road', 'tomatoes are actually eatables']\n",
        "\n",
        "similarities = docsim_obj.similarity_query(query_string, documents)\n",
        "\n",
        "similarities"
      ],
      "execution_count": 4,
      "outputs": [
        {
          "output_type": "stream",
          "text": [
            "Model ready: True\n"
          ],
          "name": "stdout"
        },
        {
          "output_type": "execute_result",
          "data": {
            "text/plain": [
              "[0.0, 0.5027427673339844]"
            ]
          },
          "metadata": {
            "tags": []
          },
          "execution_count": 4
        }
      ]
    },
    {
      "cell_type": "code",
      "metadata": {
        "id": "3X4GujQWQkxZ",
        "colab_type": "code",
        "colab": {
          "base_uri": "https://localhost:8080/",
          "height": 722
        },
        "outputId": "51f13f95-b146-456b-ac60-229901392cd6"
      },
      "source": [
        "\n",
        "import stanza\n",
        "stanza.download('en', package='mimic', processors={'ner': 'i2b2'})\n",
        "nlp = stanza.Pipeline('en', package='mimic', processors={'ner': 'i2b2'})"
      ],
      "execution_count": 5,
      "outputs": [
        {
          "output_type": "stream",
          "text": [
            "Downloading https://raw.githubusercontent.com/stanfordnlp/stanza-resources/master/resources_1.0.0.json: 120kB [00:00, 13.2MB/s]                    \n",
            "2020-08-10 11:02:08 INFO: Downloading these customized packages for language: en (English)...\n",
            "=============================\n",
            "| Processor       | Package |\n",
            "-----------------------------\n",
            "| tokenize        | mimic   |\n",
            "| pos             | mimic   |\n",
            "| lemma           | mimic   |\n",
            "| depparse        | mimic   |\n",
            "| ner             | i2b2    |\n",
            "| forward_charlm  | mimic   |\n",
            "| pretrain        | mimic   |\n",
            "| backward_charlm | mimic   |\n",
            "=============================\n",
            "\n",
            "2020-08-10 11:02:08 INFO: File exists: /root/stanza_resources/en/tokenize/mimic.pt.\n",
            "2020-08-10 11:02:08 INFO: File exists: /root/stanza_resources/en/pos/mimic.pt.\n",
            "2020-08-10 11:02:08 INFO: File exists: /root/stanza_resources/en/lemma/mimic.pt.\n",
            "2020-08-10 11:02:09 INFO: File exists: /root/stanza_resources/en/depparse/mimic.pt.\n",
            "2020-08-10 11:02:09 INFO: File exists: /root/stanza_resources/en/ner/i2b2.pt.\n",
            "2020-08-10 11:02:09 INFO: File exists: /root/stanza_resources/en/forward_charlm/mimic.pt.\n",
            "2020-08-10 11:02:09 INFO: File exists: /root/stanza_resources/en/pretrain/mimic.pt.\n",
            "2020-08-10 11:02:09 INFO: File exists: /root/stanza_resources/en/backward_charlm/mimic.pt.\n",
            "2020-08-10 11:02:09 INFO: Finished downloading models and saved to /root/stanza_resources.\n",
            "2020-08-10 11:02:09 INFO: Loading these models for language: en (English):\n",
            "=======================\n",
            "| Processor | Package |\n",
            "-----------------------\n",
            "| tokenize  | mimic   |\n",
            "| pos       | mimic   |\n",
            "| lemma     | mimic   |\n",
            "| depparse  | mimic   |\n",
            "| ner       | i2b2    |\n",
            "=======================\n",
            "\n",
            "2020-08-10 11:02:09 INFO: Use device: cpu\n",
            "2020-08-10 11:02:09 INFO: Loading: tokenize\n",
            "2020-08-10 11:02:09 INFO: Loading: pos\n",
            "2020-08-10 11:02:10 INFO: Loading: lemma\n",
            "2020-08-10 11:02:10 INFO: Loading: depparse\n",
            "2020-08-10 11:02:11 INFO: Loading: ner\n",
            "2020-08-10 11:02:12 INFO: Done loading processors!\n"
          ],
          "name": "stderr"
        }
      ]
    },
    {
      "cell_type": "code",
      "metadata": {
        "id": "cSKYxPbCRqHW",
        "colab_type": "code",
        "colab": {
          "base_uri": "https://localhost:8080/",
          "height": 50
        },
        "outputId": "ab0abc72-5783-4bd5-c90d-a9bcca32880d"
      },
      "source": [
        "doc = nlp('The patient had a sore throat and was treated with Cepacol lozenges.')\n",
        "# print out all entities\n",
        "for ent in doc.entities:\n",
        "    print(f'{ent.text}\\t{ent.type}')"
      ],
      "execution_count": 6,
      "outputs": [
        {
          "output_type": "stream",
          "text": [
            "a sore throat\tPROBLEM\n",
            "Cepacol lozenges\tTREATMENT\n"
          ],
          "name": "stdout"
        }
      ]
    },
    {
      "cell_type": "code",
      "metadata": {
        "id": "fnVErVDSuLTo",
        "colab_type": "code",
        "colab": {
          "base_uri": "https://localhost:8080/",
          "height": 722
        },
        "outputId": "fbe88f6e-de19-47fd-9431-6c7cf4e6cee3"
      },
      "source": [
        "stanza.download('en', package='mimic', processors={'ner': 'anatem'})\n",
        "anat =  stanza.Pipeline('en', package='mimic', processors={'ner': 'anatem'})\n",
        "import re\n",
        "import spacy\n",
        "parse = spacy.load(\"en_core_web_sm\")"
      ],
      "execution_count": 7,
      "outputs": [
        {
          "output_type": "stream",
          "text": [
            "Downloading https://raw.githubusercontent.com/stanfordnlp/stanza-resources/master/resources_1.0.0.json: 120kB [00:00, 11.8MB/s]                    \n",
            "2020-08-10 11:02:12 INFO: Downloading these customized packages for language: en (English)...\n",
            "=============================\n",
            "| Processor       | Package |\n",
            "-----------------------------\n",
            "| tokenize        | mimic   |\n",
            "| pos             | mimic   |\n",
            "| lemma           | mimic   |\n",
            "| depparse        | mimic   |\n",
            "| ner             | anatem  |\n",
            "| pretrain        | mimic   |\n",
            "| forward_charlm  | pubmed  |\n",
            "| backward_charlm | pubmed  |\n",
            "=============================\n",
            "\n",
            "2020-08-10 11:02:12 INFO: File exists: /root/stanza_resources/en/tokenize/mimic.pt.\n",
            "2020-08-10 11:02:12 INFO: File exists: /root/stanza_resources/en/pos/mimic.pt.\n",
            "2020-08-10 11:02:12 INFO: File exists: /root/stanza_resources/en/lemma/mimic.pt.\n",
            "2020-08-10 11:02:12 INFO: File exists: /root/stanza_resources/en/depparse/mimic.pt.\n",
            "2020-08-10 11:02:13 INFO: File exists: /root/stanza_resources/en/ner/anatem.pt.\n",
            "2020-08-10 11:02:13 INFO: File exists: /root/stanza_resources/en/pretrain/mimic.pt.\n",
            "2020-08-10 11:02:13 INFO: File exists: /root/stanza_resources/en/forward_charlm/pubmed.pt.\n",
            "2020-08-10 11:02:13 INFO: File exists: /root/stanza_resources/en/backward_charlm/pubmed.pt.\n",
            "2020-08-10 11:02:13 INFO: Finished downloading models and saved to /root/stanza_resources.\n",
            "2020-08-10 11:02:13 INFO: Loading these models for language: en (English):\n",
            "=======================\n",
            "| Processor | Package |\n",
            "-----------------------\n",
            "| tokenize  | mimic   |\n",
            "| pos       | mimic   |\n",
            "| lemma     | mimic   |\n",
            "| depparse  | mimic   |\n",
            "| ner       | anatem  |\n",
            "=======================\n",
            "\n",
            "2020-08-10 11:02:13 INFO: Use device: cpu\n",
            "2020-08-10 11:02:13 INFO: Loading: tokenize\n",
            "2020-08-10 11:02:13 INFO: Loading: pos\n",
            "2020-08-10 11:02:14 INFO: Loading: lemma\n",
            "2020-08-10 11:02:14 INFO: Loading: depparse\n",
            "2020-08-10 11:02:15 INFO: Loading: ner\n",
            "2020-08-10 11:02:15 INFO: Done loading processors!\n"
          ],
          "name": "stderr"
        }
      ]
    },
    {
      "cell_type": "code",
      "metadata": {
        "id": "sB4k-jq8fJ5T",
        "colab_type": "code",
        "colab": {}
      },
      "source": [
        ""
      ],
      "execution_count": 7,
      "outputs": []
    },
    {
      "cell_type": "code",
      "metadata": {
        "id": "jE4bWWvJ8P0h",
        "colab_type": "code",
        "colab": {}
      },
      "source": [
        "common_adjectives = {'abdominal','acute','anterior','anxiolytic','arthropathy','autologous','benign','bilateral','biological','central','cerebral',\n",
        " 'cerebrovascular','cervical','chorioretinal','chronic','classical','classified','congenital','corneal','coronary','cutaneous','deep','diabetic','dominant','due',\n",
        " 'external','follicular','foreign','hypnotic','idiopathic','induced','infectious','infective','inflammatory','inguinal','intermittent','interstitial','intestinal',\n",
        " 'intracranial','intractable','joint','juvenile','lacrimal','large','lateral','left','lower','lumbosacral','macular','malignant','middle',\n",
        " 'mild','moderate','multiple','native','nervous','non','nontraumatic','old','optic','other','paralytic','parasitic','partial','peripheral',\n",
        " 'post','posterior','postprocedural','primary','psychoactive','psychotic','pulmonary','recurrent','renal','respiratory','retained','retinal','rheumatoid','right',\n",
        " 'secondary','sedative','severe','small','soft','specific','specified','spinal','spontaneous','subarachnoid','systemic','traumatic',\n",
        " 'ulcerative','uncertain','uncomplicated','unilateral','unspecified','upper','viral', 'visual'}"
      ],
      "execution_count": 8,
      "outputs": []
    },
    {
      "cell_type": "code",
      "metadata": {
        "id": "8yC3JHT3uW1x",
        "colab_type": "code",
        "colab": {}
      },
      "source": [
        "text = '''\n",
        "CHIEF COMPLAINT: Pain and swelling in abdomen\n",
        "\n",
        "HISTORY OF PRESENT ILLNESS: Patient is a 67-year-old female presents to the emergency room with sharp, shooting pain in her lower abdomen and pronounced swelling. Patient is nauseous, has vomited, and has a fever. Abdomen is firm and slightly distended. Patient states she has no history of abdominal problems, disease, or hernia.\n",
        "\n",
        "PAST MEDICAL HISTORY: Patient is on a program of anti-depressants, but is otherwise physically sound. States she has never been admitted for any abdominal problems.\n",
        "\n",
        "CURRENT MEDICATIONS: Wellbutrin, 5 mg daily\n",
        "\n",
        "ALLERGIES: None\n",
        "\n",
        "SOCIAL HISTORY: Used to smoke (using Wellbutrin to quit) and does not drink\n",
        "\n",
        "REVIEW OF SYMPTOMS: As above\n",
        "\n",
        "PHYSICAL EXAMINATION:\n",
        "Vital Signs: Blood pressure is 150/88, with a fever of 102 degrees.\n",
        "Skin: Warm and dry and normal, except in lower abdomen, where it is swollen and tight\n",
        "Chest: no respiratory problems detected\n",
        "Cardiac: regular rhythm\n",
        "Back: No abnormalities detected\n",
        "Abdomen: is firm above the pelvic bones. Patient experiences pain upon palpation. Blumberg sign elicits painful response, as does a forced cough. Abdomen is tight and swollen.\n",
        "\n",
        "INTERVENTION: Physical examination suggests appendicitis. Ultrasound test ordered, and diagnosis of appendicitis is confirmed. Patient is rushed to surgery and is prepped for general anesthesia. Once anesthetized, patient receives appendectomy via laparoscopy. Exploration during surgery reveals no signs of peritonitis, local or general. Following surgery, patient is taken to observation room, and then to hospital room. Patient responds well to surgery, and is discharged later that night with a prescription for pain medication.\n",
        "\n",
        "Diagnosis: Acute appendicitis\n",
        "'''"
      ],
      "execution_count": 9,
      "outputs": []
    },
    {
      "cell_type": "code",
      "metadata": {
        "id": "mzlj-OG8TUBz",
        "colab_type": "code",
        "colab": {}
      },
      "source": [
        "\n",
        "problems = []\n",
        "anatomy = set()\n",
        "\n",
        "doc = nlp(text)\n",
        "# print out all entities\n",
        "for ent in doc.entities:\n",
        "  if ent.type == 'PROBLEM':\n",
        "    #print(f'{ent.text}')\n",
        "    problems.append(re.sub('[^A-Za-z0-9]+', ' ', ent.text))\n",
        "\n",
        "\n",
        "doc = anat(text) \n",
        "for ent in doc.entities:\n",
        "  if ent.type == 'ANATOMY':\n",
        "    #print(f'{ent.text}')\n",
        "    anatomy.add(re.sub('[^A-Za-z0-9]+', ' ', ent.text))"
      ],
      "execution_count": 10,
      "outputs": []
    },
    {
      "cell_type": "code",
      "metadata": {
        "id": "nLgY9v-qbZu6",
        "colab_type": "code",
        "colab": {
          "base_uri": "https://localhost:8080/",
          "height": 454
        },
        "outputId": "2b4a843a-2d3b-404b-ab78-87329cd6803e"
      },
      "source": [
        "problems"
      ],
      "execution_count": 11,
      "outputs": [
        {
          "output_type": "execute_result",
          "data": {
            "text/plain": [
              "['Pain',\n",
              " 'swelling in abdomen',\n",
              " 'sharp shooting pain in her lower abdomen',\n",
              " 'pronounced swelling',\n",
              " 'nauseous',\n",
              " 'vomited',\n",
              " 'a fever',\n",
              " 'firm',\n",
              " 'slightly distended',\n",
              " 'abdominal problems',\n",
              " 'disease',\n",
              " 'hernia',\n",
              " 'any abdominal problems',\n",
              " 'a fever',\n",
              " 'swollen',\n",
              " 'respiratory problems',\n",
              " 'abnormalities',\n",
              " 'firm above the pelvic bones',\n",
              " 'pain',\n",
              " 'painful response',\n",
              " 'a forced cough',\n",
              " 'swollen',\n",
              " 'appendicitis',\n",
              " 'appendicitis',\n",
              " 'peritonitis',\n",
              " 'Acute appendicitis']"
            ]
          },
          "metadata": {
            "tags": []
          },
          "execution_count": 11
        }
      ]
    },
    {
      "cell_type": "code",
      "metadata": {
        "id": "H4JK-Tc9bfTY",
        "colab_type": "code",
        "colab": {}
      },
      "source": [
        "#anatomy\n",
        "to_look_for = set()"
      ],
      "execution_count": 12,
      "outputs": []
    },
    {
      "cell_type": "code",
      "metadata": {
        "id": "P6DiC0Gxh4d_",
        "colab_type": "code",
        "colab": {
          "base_uri": "https://localhost:8080/",
          "height": 101
        },
        "outputId": "4b76724a-8ec2-4d1e-e807-75d01127fb4d"
      },
      "source": [
        "for i in problems:\n",
        "  #print(i, ':')\n",
        "  doc = parse(i.lower())\n",
        "  word = ''\n",
        "  for tok in doc:\n",
        "    if tok.pos_ == 'ADJ' and str(tok) not in anatomy and str(tok) not in common_adjectives:\n",
        "      print(str(tok))\n",
        "      #pass\n",
        "    else:\n",
        "      word += str(tok)\n",
        "      word += ' '\n",
        "  to_look_for.add(word)\n",
        "  "
      ],
      "execution_count": 13,
      "outputs": [
        {
          "output_type": "stream",
          "text": [
            "sharp\n",
            "nauseous\n",
            "firm\n",
            "pelvic\n",
            "painful\n"
          ],
          "name": "stdout"
        }
      ]
    },
    {
      "cell_type": "code",
      "metadata": {
        "id": "KJK0d7kKm-q5",
        "colab_type": "code",
        "colab": {}
      },
      "source": [
        "to_look_for = [i for i in to_look_for if len(i)>0]"
      ],
      "execution_count": 14,
      "outputs": []
    },
    {
      "cell_type": "code",
      "metadata": {
        "id": "7EO4ARwXm-ti",
        "colab_type": "code",
        "colab": {}
      },
      "source": [
        "anatomy = [i for i in anatomy if len(i)>0]"
      ],
      "execution_count": 15,
      "outputs": []
    },
    {
      "cell_type": "code",
      "metadata": {
        "id": "JGxKxNXCwxr1",
        "colab_type": "code",
        "colab": {
          "base_uri": "https://localhost:8080/",
          "height": 34
        },
        "outputId": "a6019f20-5626-4d3b-deb7-0447e125b112"
      },
      "source": [
        "import pandas as pd\n",
        "import numpy as np\n",
        "\n",
        "file = pd.read_csv('codes.csv',header =None)\n",
        "file.columns =  ['desc','codes']\n",
        "len(file)"
      ],
      "execution_count": 16,
      "outputs": [
        {
          "output_type": "execute_result",
          "data": {
            "text/plain": [
              "14988"
            ]
          },
          "metadata": {
            "tags": []
          },
          "execution_count": 16
        }
      ]
    },
    {
      "cell_type": "code",
      "metadata": {
        "id": "8MRQHu8jw21I",
        "colab_type": "code",
        "colab": {
          "base_uri": "https://localhost:8080/",
          "height": 353
        },
        "outputId": "8c438c4e-3852-46b4-bbe9-7a403e9b8bad"
      },
      "source": [
        "to_look_for"
      ],
      "execution_count": 17,
      "outputs": [
        {
          "output_type": "execute_result",
          "data": {
            "text/plain": [
              "['vomited ',\n",
              " 'appendicitis ',\n",
              " 'abnormalities ',\n",
              " 'peritonitis ',\n",
              " 'acute appendicitis ',\n",
              " 'disease ',\n",
              " 'response ',\n",
              " 'shooting pain in her lower abdomen ',\n",
              " 'abdominal problems ',\n",
              " 'firm above the bones ',\n",
              " 'slightly distended ',\n",
              " 'a forced cough ',\n",
              " 'any abdominal problems ',\n",
              " 'pain ',\n",
              " 'pronounced swelling ',\n",
              " 'hernia ',\n",
              " 'respiratory problems ',\n",
              " 'swelling in abdomen ',\n",
              " 'swollen ',\n",
              " 'a fever ']"
            ]
          },
          "metadata": {
            "tags": []
          },
          "execution_count": 17
        }
      ]
    },
    {
      "cell_type": "code",
      "metadata": {
        "id": "WiUduikUxeO_",
        "colab_type": "code",
        "colab": {}
      },
      "source": [
        "# I WILL SUGGEST TO THE MODEL THAT THE CODE FOR THESE PROBLEMS START WITH 'K'\n",
        "\n",
        "x = file[file.codes.str.startswith(('K'))]\n",
        "documents = x['desc']\n",
        "codefordoc = x['codes']"
      ],
      "execution_count": 18,
      "outputs": []
    },
    {
      "cell_type": "code",
      "metadata": {
        "id": "9W-VZpk1xtcw",
        "colab_type": "code",
        "colab": {
          "base_uri": "https://localhost:8080/",
          "height": 386
        },
        "outputId": "5d22a413-1759-41c2-ee6f-cf088f5b00d4"
      },
      "source": [
        "%%time\n",
        "\n",
        "ans = []\n",
        "for i in to_look_for:\n",
        "    print('Processing : ', i)\n",
        "    query_string = i\n",
        "    similarities = docsim_obj.similarity_query(query_string, documents)\n",
        "    c = np.argmax(similarities)\n",
        "    s = str(list(codefordoc)[c]) +  ' , ' + str(list(documents)[c])\n",
        "    ans.append(s)\n",
        "    "
      ],
      "execution_count": 19,
      "outputs": [
        {
          "output_type": "stream",
          "text": [
            "Processing :  vomited \n",
            "Processing :  appendicitis \n",
            "Processing :  abnormalities \n",
            "Processing :  peritonitis \n",
            "Processing :  acute appendicitis \n",
            "Processing :  disease \n",
            "Processing :  response \n",
            "Processing :  shooting pain in her lower abdomen \n",
            "Processing :  abdominal problems \n",
            "Processing :  firm above the bones \n",
            "Processing :  slightly distended \n",
            "Processing :  a forced cough \n",
            "Processing :  any abdominal problems \n",
            "Processing :  pain \n",
            "Processing :  pronounced swelling \n",
            "Processing :  hernia \n",
            "Processing :  respiratory problems \n",
            "Processing :  swelling in abdomen \n",
            "Processing :  swollen \n",
            "Processing :  a fever \n",
            "CPU times: user 4min 7s, sys: 57.5 s, total: 5min 4s\n",
            "Wall time: 2min 34s\n"
          ],
          "name": "stdout"
        }
      ]
    },
    {
      "cell_type": "code",
      "metadata": {
        "id": "iiSLEJFox1u-",
        "colab_type": "code",
        "colab": {
          "base_uri": "https://localhost:8080/",
          "height": 689
        },
        "outputId": "40e1cb22-727d-4f71-b665-4c25f8ea71b8"
      },
      "source": [
        "for i in ans:\n",
        "    print(i)\n",
        "    print('___________________________________')"
      ],
      "execution_count": 20,
      "outputs": [
        {
          "output_type": "stream",
          "text": [
            "K00 , Anodontia\n",
            "___________________________________\n",
            "K36 , Other appendicitis\n",
            "___________________________________\n",
            "K00 , Abnormalities of size and form of teeth\n",
            "___________________________________\n",
            "K65 , Generalized (acute) peritonitis\n",
            "___________________________________\n",
            "K35 , Unspecified acute appendicitis\n",
            "___________________________________\n",
            "K03 , Disease of hard tissues of teeth, unspecified\n",
            "___________________________________\n",
            "K76 , Fatty (change of) liver, not elsewhere classified\n",
            "___________________________________\n",
            "K31 , Acute dilatation of stomach\n",
            "___________________________________\n",
            "K08 , Complete loss of teeth due to trauma, class I\n",
            "___________________________________\n",
            "K00 , Supernumerary teeth\n",
            "___________________________________\n",
            "K22 , Barrett's esophagus with low grade dysplasia\n",
            "___________________________________\n",
            "K51 , Left sided colitis without complications\n",
            "___________________________________\n",
            "K08 , Complete loss of teeth due to trauma, class I\n",
            "___________________________________\n",
            "K31 , Acute dilatation of stomach\n",
            "___________________________________\n",
            "K29 , Chronic superficial gastritis with bleeding\n",
            "___________________________________\n",
            "K41 , Bilateral femoral hernia, with obstruction, without gangrene, not specified as recurrent\n",
            "___________________________________\n",
            "K08 , Exfoliation of teeth due to systemic causes\n",
            "___________________________________\n",
            "K51 , Ulcerative (chronic) proctitis with rectal bleeding\n",
            "___________________________________\n",
            "K22 , Ulcer of esophagus without bleeding\n",
            "___________________________________\n",
            "K50 , Crohn's disease of small intestine with rectal bleeding\n",
            "___________________________________\n"
          ],
          "name": "stdout"
        }
      ]
    },
    {
      "cell_type": "code",
      "metadata": {
        "id": "05QfOpyUzzpC",
        "colab_type": "code",
        "colab": {
          "base_uri": "https://localhost:8080/",
          "height": 34
        },
        "outputId": "03e82fdb-2e71-4493-807a-3f473af36598"
      },
      "source": [
        "\n",
        "elapsed = timeit.default_timer() - start_time\n",
        "elapsed"
      ],
      "execution_count": 21,
      "outputs": [
        {
          "output_type": "execute_result",
          "data": {
            "text/plain": [
              "202.23609558700002"
            ]
          },
          "metadata": {
            "tags": []
          },
          "execution_count": 21
        }
      ]
    }
  ]
}