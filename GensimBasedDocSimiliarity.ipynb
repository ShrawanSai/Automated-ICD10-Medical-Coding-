{
 "cells": [
  {
   "cell_type": "code",
   "execution_count": 17,
   "metadata": {},
   "outputs": [],
   "source": [
    "import docsim"
   ]
  },
  {
   "cell_type": "code",
   "execution_count": 18,
   "metadata": {},
   "outputs": [
    {
     "name": "stdout",
     "output_type": "stream",
     "text": [
      "Loading default GloVe word vector model: glove-wiki-gigaword-50\n",
      "Model loaded\n"
     ]
    }
   ],
   "source": [
    "\n",
    "docsim_obj = docsim.DocSim(verbose=True)"
   ]
  },
  {
   "cell_type": "code",
   "execution_count": 19,
   "metadata": {},
   "outputs": [
    {
     "name": "stdout",
     "output_type": "stream",
     "text": [
      "Model ready: True\n"
     ]
    }
   ],
   "source": [
    "print(f'Model ready: {docsim_obj.model_ready}')"
   ]
  },
  {
   "cell_type": "code",
   "execution_count": 25,
   "metadata": {},
   "outputs": [],
   "source": [
    "query_string = 'fruit and vegetables'\n",
    "documents = ['cars drive on the road', 'tomatoes are actually eatables']"
   ]
  },
  {
   "cell_type": "code",
   "execution_count": 21,
   "metadata": {},
   "outputs": [
    {
     "name": "stdout",
     "output_type": "stream",
     "text": [
      "Loading default GloVe word vector model: glove-wiki-gigaword-50\n"
     ]
    }
   ],
   "source": [
    "docsim1 = docsim.DocSim_threaded(verbose=True)"
   ]
  },
  {
   "cell_type": "code",
   "execution_count": 26,
   "metadata": {},
   "outputs": [
    {
     "name": "stdout",
     "output_type": "stream",
     "text": [
      "2 documents loaded into corpus\n"
     ]
    },
    {
     "name": "stderr",
     "output_type": "stream",
     "text": [
      "C:\\Users\\msais\\Anaconda3\\envs\\gg\\lib\\site-packages\\gensim\\similarities\\termsim.py:358: RuntimeWarning: divide by zero encountered in true_divide\n",
      "  Y = np.multiply(Y, 1 / np.sqrt(Y_norm))\n",
      "C:\\Users\\msais\\Anaconda3\\envs\\gg\\lib\\site-packages\\gensim\\similarities\\termsim.py:358: RuntimeWarning: invalid value encountered in multiply\n",
      "  Y = np.multiply(Y, 1 / np.sqrt(Y_norm))\n"
     ]
    }
   ],
   "source": [
    "similarities = docsim1.similarity_query(query_string, documents)"
   ]
  },
  {
   "cell_type": "code",
   "execution_count": 27,
   "metadata": {},
   "outputs": [
    {
     "data": {
      "text/plain": [
       "[0.0, 0.5027427673339844]"
      ]
     },
     "execution_count": 27,
     "metadata": {},
     "output_type": "execute_result"
    }
   ],
   "source": [
    "similarities"
   ]
  },
  {
   "cell_type": "code",
   "execution_count": 40,
   "metadata": {},
   "outputs": [
    {
     "data": {
      "text/plain": [
       "14988"
      ]
     },
     "execution_count": 40,
     "metadata": {},
     "output_type": "execute_result"
    }
   ],
   "source": [
    "import pandas as pd\n",
    "file = pd.read_csv('codes.csv',header =None)\n",
    "file.columns =  ['desc','codes']\n",
    "len(file)"
   ]
  },
  {
   "cell_type": "code",
   "execution_count": 41,
   "metadata": {},
   "outputs": [
    {
     "data": {
      "text/plain": [
       "966"
      ]
     },
     "execution_count": 41,
     "metadata": {},
     "output_type": "execute_result"
    }
   ],
   "source": [
    "len(file['codes'].unique())"
   ]
  },
  {
   "cell_type": "code",
   "execution_count": 43,
   "metadata": {},
   "outputs": [],
   "source": [
    "documents = file['desc']"
   ]
  },
  {
   "cell_type": "code",
   "execution_count": 75,
   "metadata": {},
   "outputs": [],
   "source": [
    "x = file[file.codes.str.startswith(('K'))]\n",
    "documents = x['desc']"
   ]
  },
  {
   "cell_type": "code",
   "execution_count": 81,
   "metadata": {},
   "outputs": [],
   "source": [
    "query_string = 'tics diverticula rectal bleeding some left sided lower abdominal pain infection hemorrhoids side effects rectal pain diverticulosis perforation bleeding  '"
   ]
  },
  {
   "cell_type": "code",
   "execution_count": 82,
   "metadata": {},
   "outputs": [
    {
     "name": "stdout",
     "output_type": "stream",
     "text": [
      "706 documents loaded into corpus\n"
     ]
    },
    {
     "name": "stderr",
     "output_type": "stream",
     "text": [
      "C:\\Users\\msais\\Anaconda3\\envs\\gg\\lib\\site-packages\\gensim\\similarities\\termsim.py:358: RuntimeWarning: divide by zero encountered in true_divide\n",
      "  Y = np.multiply(Y, 1 / np.sqrt(Y_norm))\n",
      "C:\\Users\\msais\\Anaconda3\\envs\\gg\\lib\\site-packages\\gensim\\similarities\\termsim.py:358: RuntimeWarning: invalid value encountered in multiply\n",
      "  Y = np.multiply(Y, 1 / np.sqrt(Y_norm))\n"
     ]
    }
   ],
   "source": [
    "similarities = docsim1.similarity_query(query_string, documents)"
   ]
  },
  {
   "cell_type": "code",
   "execution_count": 83,
   "metadata": {},
   "outputs": [
    {
     "data": {
      "text/plain": [
       "263"
      ]
     },
     "execution_count": 83,
     "metadata": {},
     "output_type": "execute_result"
    }
   ],
   "source": [
    "np.argmax(similarities)"
   ]
  },
  {
   "cell_type": "code",
   "execution_count": 84,
   "metadata": {},
   "outputs": [
    {
     "data": {
      "text/plain": [
       "'Angiodysplasia of stomach and duodenum without bleeding'"
      ]
     },
     "execution_count": 84,
     "metadata": {},
     "output_type": "execute_result"
    }
   ],
   "source": [
    "list(documents)[263]"
   ]
  },
  {
   "cell_type": "code",
   "execution_count": 138,
   "metadata": {},
   "outputs": [],
   "source": [
    "q = {'',\n",
    " 'Pain ',\n",
    " 'a fever ',\n",
    " 'a forced cough ',\n",
    " 'abdominal problems ',\n",
    " 'abnormalities ',\n",
    " 'any abdominal problems ',\n",
    " 'appendicitis ',\n",
    " 'disease ',\n",
    " 'firm above the bones ',\n",
    " 'hernia ',\n",
    " 'pain ',\n",
    " 'peritonitis ',\n",
    " 'pronounced swelling ',\n",
    " 'respiratory problems ',\n",
    " 'response ',\n",
    " 'shooting pain in her abdomen ',\n",
    " 'slightly distended ',\n",
    " 'swelling in abdomen ',\n",
    " 'swollen ',\n",
    " 'vomited '}\n",
    "x = file[file.codes.str.startswith(('K'))]\n",
    "documents = x['desc']"
   ]
  },
  {
   "cell_type": "code",
   "execution_count": null,
   "metadata": {},
   "outputs": [],
   "source": []
  },
  {
   "cell_type": "code",
   "execution_count": 139,
   "metadata": {},
   "outputs": [],
   "source": [
    "import warnings\n",
    "warnings.filterwarnings('ignore')"
   ]
  },
  {
   "cell_type": "code",
   "execution_count": 140,
   "metadata": {},
   "outputs": [
    {
     "name": "stdout",
     "output_type": "stream",
     "text": [
      "706 documents loaded into corpus\n",
      "706 documents loaded into corpus\n",
      "706 documents loaded into corpus\n",
      "706 documents loaded into corpus\n",
      "706 documents loaded into corpus\n",
      "706 documents loaded into corpus\n",
      "706 documents loaded into corpus\n",
      "706 documents loaded into corpus\n",
      "706 documents loaded into corpus\n",
      "706 documents loaded into corpus\n",
      "706 documents loaded into corpus\n",
      "706 documents loaded into corpus\n",
      "706 documents loaded into corpus\n",
      "706 documents loaded into corpus\n",
      "706 documents loaded into corpus\n",
      "706 documents loaded into corpus\n",
      "706 documents loaded into corpus\n",
      "706 documents loaded into corpus\n",
      "706 documents loaded into corpus\n",
      "706 documents loaded into corpus\n",
      "706 documents loaded into corpus\n",
      "Wall time: 1min 51s\n"
     ]
    }
   ],
   "source": [
    "%%time\n",
    "\n",
    "ans = []\n",
    "for i in q:\n",
    "    query_string = i\n",
    "    similarities = docsim1.similarity_query(query_string, documents)\n",
    "    c = np.argmax(similarities)\n",
    "    ans.append(i+ ':'+ list(documents)[c])\n",
    "    "
   ]
  },
  {
   "cell_type": "code",
   "execution_count": 141,
   "metadata": {},
   "outputs": [
    {
     "name": "stdout",
     "output_type": "stream",
     "text": [
      ":Anodontia\n",
      "firm above the bones :Supernumerary teeth\n",
      "abnormalities :Abnormalities of size and form of teeth\n",
      "pronounced swelling :Chronic superficial gastritis with bleeding\n",
      "vomited :Anodontia\n",
      "a forced cough :Left sided colitis without complications\n",
      "peritonitis :Generalized (acute) peritonitis\n",
      "swollen :Ulcer of esophagus without bleeding\n",
      "Pain :Acute dilatation of stomach\n",
      "shooting pain in her abdomen :Acute dilatation of stomach\n",
      "a fever :Crohn's disease of small intestine with rectal bleeding\n",
      "slightly distended :Barrett's esophagus with low grade dysplasia\n",
      "pain :Acute dilatation of stomach\n",
      "respiratory problems :Exfoliation of teeth due to systemic causes\n",
      "any abdominal problems :Complete loss of teeth due to trauma, class I\n",
      "abdominal problems :Complete loss of teeth due to trauma, class I\n",
      "hernia :Bilateral femoral hernia, with obstruction, without gangrene, not specified as recurrent\n",
      "response :Fatty (change of) liver, not elsewhere classified\n",
      "disease :Disease of hard tissues of teeth, unspecified\n",
      "swelling in abdomen :Ulcerative (chronic) proctitis with rectal bleeding\n",
      "appendicitis :Other appendicitis\n"
     ]
    }
   ],
   "source": [
    "for i in ans:\n",
    "    print(i)"
   ]
  },
  {
   "cell_type": "code",
   "execution_count": 151,
   "metadata": {},
   "outputs": [],
   "source": [
    "x = file\n",
    "documents = x['desc']"
   ]
  },
  {
   "cell_type": "code",
   "execution_count": 152,
   "metadata": {},
   "outputs": [],
   "source": [
    "query_string = 'airplanes'"
   ]
  },
  {
   "cell_type": "code",
   "execution_count": 153,
   "metadata": {},
   "outputs": [
    {
     "name": "stdout",
     "output_type": "stream",
     "text": [
      "14988 documents loaded into corpus\n"
     ]
    }
   ],
   "source": [
    "similarities = docsim1.similarity_query(query_string, documents)"
   ]
  },
  {
   "cell_type": "code",
   "execution_count": 154,
   "metadata": {},
   "outputs": [
    {
     "data": {
      "text/plain": [
       "4600"
      ]
     },
     "execution_count": 154,
     "metadata": {},
     "output_type": "execute_result"
    }
   ],
   "source": [
    "np.argmax(similarities)"
   ]
  },
  {
   "cell_type": "code",
   "execution_count": 156,
   "metadata": {},
   "outputs": [
    {
     "data": {
      "text/plain": [
       "'Circadian rhythm sleep disorder, jet lag type'"
      ]
     },
     "execution_count": 156,
     "metadata": {},
     "output_type": "execute_result"
    }
   ],
   "source": [
    "list(documents)[4600]"
   ]
  },
  {
   "cell_type": "code",
   "execution_count": null,
   "metadata": {},
   "outputs": [],
   "source": []
  }
 ],
 "metadata": {
  "kernelspec": {
   "display_name": "Python 3",
   "language": "python",
   "name": "python3"
  },
  "language_info": {
   "codemirror_mode": {
    "name": "ipython",
    "version": 3
   },
   "file_extension": ".py",
   "mimetype": "text/x-python",
   "name": "python",
   "nbconvert_exporter": "python",
   "pygments_lexer": "ipython3",
   "version": "3.6.7"
  }
 },
 "nbformat": 4,
 "nbformat_minor": 4
}
