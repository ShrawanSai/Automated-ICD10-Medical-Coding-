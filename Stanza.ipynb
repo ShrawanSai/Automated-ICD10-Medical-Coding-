{
  "nbformat": 4,
  "nbformat_minor": 0,
  "metadata": {
    "colab": {
      "name": "Stanza",
      "provenance": [],
      "collapsed_sections": []
    },
    "kernelspec": {
      "name": "python3",
      "display_name": "Python 3"
    }
  },
  "cells": [
    {
      "cell_type": "code",
      "metadata": {
        "id": "3X4GujQWQkxZ",
        "colab_type": "code",
        "colab": {
          "base_uri": "https://localhost:8080/",
          "height": 302
        },
        "outputId": "2d6b782b-7d00-4de3-bbfb-1f818d9b9fb1"
      },
      "source": [
        "!pip install stanza"
      ],
      "execution_count": 1,
      "outputs": [
        {
          "output_type": "stream",
          "text": [
            "Collecting stanza\n",
            "\u001b[?25l  Downloading https://files.pythonhosted.org/packages/27/9c/60689521a971a57dd02d2925105efedefa9dccd76c9a0b92566683d43e89/stanza-1.0.1-py3-none-any.whl (193kB)\n",
            "\u001b[K     |████████████████████████████████| 194kB 3.3MB/s \n",
            "\u001b[?25hRequirement already satisfied: torch>=1.3.0 in /usr/local/lib/python3.6/dist-packages (from stanza) (1.6.0+cu101)\n",
            "Requirement already satisfied: protobuf in /usr/local/lib/python3.6/dist-packages (from stanza) (3.12.4)\n",
            "Requirement already satisfied: requests in /usr/local/lib/python3.6/dist-packages (from stanza) (2.23.0)\n",
            "Requirement already satisfied: numpy in /usr/local/lib/python3.6/dist-packages (from stanza) (1.18.5)\n",
            "Requirement already satisfied: tqdm in /usr/local/lib/python3.6/dist-packages (from stanza) (4.41.1)\n",
            "Requirement already satisfied: future in /usr/local/lib/python3.6/dist-packages (from torch>=1.3.0->stanza) (0.16.0)\n",
            "Requirement already satisfied: six>=1.9 in /usr/local/lib/python3.6/dist-packages (from protobuf->stanza) (1.15.0)\n",
            "Requirement already satisfied: setuptools in /usr/local/lib/python3.6/dist-packages (from protobuf->stanza) (49.2.0)\n",
            "Requirement already satisfied: idna<3,>=2.5 in /usr/local/lib/python3.6/dist-packages (from requests->stanza) (2.10)\n",
            "Requirement already satisfied: chardet<4,>=3.0.2 in /usr/local/lib/python3.6/dist-packages (from requests->stanza) (3.0.4)\n",
            "Requirement already satisfied: certifi>=2017.4.17 in /usr/local/lib/python3.6/dist-packages (from requests->stanza) (2020.6.20)\n",
            "Requirement already satisfied: urllib3!=1.25.0,!=1.25.1,<1.26,>=1.21.1 in /usr/local/lib/python3.6/dist-packages (from requests->stanza) (1.24.3)\n",
            "Installing collected packages: stanza\n",
            "Successfully installed stanza-1.0.1\n"
          ],
          "name": "stdout"
        }
      ]
    },
    {
      "cell_type": "code",
      "metadata": {
        "id": "cSKYxPbCRqHW",
        "colab_type": "code",
        "colab": {
          "base_uri": "https://localhost:8080/",
          "height": 386
        },
        "outputId": "792c2c1e-fdeb-43d6-8e9c-4e80a8a0b977"
      },
      "source": [
        "import stanza\n",
        "stanza.download('en')       # This downloads the English models for the neural pipeline\n",
        "nlp = stanza.Pipeline('en') # This sets up a default neural pipeline in English\n"
      ],
      "execution_count": 2,
      "outputs": [
        {
          "output_type": "stream",
          "text": [
            "Downloading https://raw.githubusercontent.com/stanfordnlp/stanza-resources/master/resources_1.0.0.json: 120kB [00:00, 13.0MB/s]                    \n",
            "2020-08-09 19:36:32 INFO: Downloading default packages for language: en (English)...\n",
            "Downloading http://nlp.stanford.edu/software/stanza/1.0.0/en/default.zip: 100%|██████████| 402M/402M [00:16<00:00, 24.7MB/s]\n",
            "2020-08-09 19:36:56 INFO: Finished downloading models and saved to /root/stanza_resources.\n",
            "2020-08-09 19:36:56 INFO: Loading these models for language: en (English):\n",
            "=========================\n",
            "| Processor | Package   |\n",
            "-------------------------\n",
            "| tokenize  | ewt       |\n",
            "| pos       | ewt       |\n",
            "| lemma     | ewt       |\n",
            "| depparse  | ewt       |\n",
            "| ner       | ontonotes |\n",
            "=========================\n",
            "\n",
            "2020-08-09 19:36:56 INFO: Use device: cpu\n",
            "2020-08-09 19:36:56 INFO: Loading: tokenize\n",
            "2020-08-09 19:36:56 INFO: Loading: pos\n",
            "2020-08-09 19:36:57 INFO: Loading: lemma\n",
            "2020-08-09 19:36:57 INFO: Loading: depparse\n",
            "2020-08-09 19:36:59 INFO: Loading: ner\n",
            "2020-08-09 19:36:59 INFO: Done loading processors!\n"
          ],
          "name": "stderr"
        }
      ]
    },
    {
      "cell_type": "code",
      "metadata": {
        "id": "vWtEq4zqSBqs",
        "colab_type": "code",
        "colab": {
          "base_uri": "https://localhost:8080/",
          "height": 134
        },
        "outputId": "a0e898f5-2418-489b-b866-b70fd9ca7204"
      },
      "source": [
        "doc = nlp(\"Barack Obama was born in Hawaii.  He was elected president in 2008.\")\n",
        "doc.sentences[0].print_dependencies()"
      ],
      "execution_count": 3,
      "outputs": [
        {
          "output_type": "stream",
          "text": [
            "('Barack', '4', 'nsubj:pass')\n",
            "('Obama', '1', 'flat')\n",
            "('was', '4', 'aux:pass')\n",
            "('born', '0', 'root')\n",
            "('in', '6', 'case')\n",
            "('Hawaii', '4', 'obl')\n",
            "('.', '4', 'punct')\n"
          ],
          "name": "stdout"
        }
      ]
    },
    {
      "cell_type": "code",
      "metadata": {
        "id": "ACm8WOO5SFA9",
        "colab_type": "code",
        "colab": {
          "base_uri": "https://localhost:8080/",
          "height": 34
        },
        "outputId": "b754d10f-a6f1-415f-8c7d-8436947708b4"
      },
      "source": [
        "doc = nlp('The patient had a sore throat and was treated with Cepacol lozenges.')\n",
        "# print out all entities\n",
        "for ent in doc.entities:\n",
        "    print(f'{ent.text}\\t{ent.type}')"
      ],
      "execution_count": 4,
      "outputs": [
        {
          "output_type": "stream",
          "text": [
            "Cepacol\tPRODUCT\n"
          ],
          "name": "stdout"
        }
      ]
    },
    {
      "cell_type": "code",
      "metadata": {
        "id": "-dgwTu4ASkz0",
        "colab_type": "code",
        "colab": {
          "base_uri": "https://localhost:8080/",
          "height": 722
        },
        "outputId": "bb4d9dd7-a942-420f-a81c-bb256e181a56"
      },
      "source": [
        "stanza.download('en', package='mimic', processors={'ner': 'i2b2'})\n",
        "nlp = stanza.Pipeline('en', package='mimic', processors={'ner': 'i2b2'})"
      ],
      "execution_count": 5,
      "outputs": [
        {
          "output_type": "stream",
          "text": [
            "Downloading https://raw.githubusercontent.com/stanfordnlp/stanza-resources/master/resources_1.0.0.json: 120kB [00:00, 12.1MB/s]                    \n",
            "2020-08-09 19:37:23 INFO: Downloading these customized packages for language: en (English)...\n",
            "=============================\n",
            "| Processor       | Package |\n",
            "-----------------------------\n",
            "| tokenize        | mimic   |\n",
            "| pos             | mimic   |\n",
            "| lemma           | mimic   |\n",
            "| depparse        | mimic   |\n",
            "| ner             | i2b2    |\n",
            "| pretrain        | mimic   |\n",
            "| backward_charlm | mimic   |\n",
            "| forward_charlm  | mimic   |\n",
            "=============================\n",
            "\n",
            "Downloading http://nlp.stanford.edu/software/stanza/1.0.0/en/tokenize/mimic.pt: 100%|██████████| 631k/631k [00:00<00:00, 1.28MB/s]\n",
            "Downloading http://nlp.stanford.edu/software/stanza/1.0.0/en/pos/mimic.pt: 100%|██████████| 20.8M/20.8M [00:11<00:00, 1.84MB/s]\n",
            "Downloading http://nlp.stanford.edu/software/stanza/1.0.0/en/lemma/mimic.pt: 100%|██████████| 4.19M/4.19M [00:01<00:00, 3.29MB/s]\n",
            "Downloading http://nlp.stanford.edu/software/stanza/1.0.0/en/depparse/mimic.pt: 100%|██████████| 109M/109M [00:17<00:00, 6.23MB/s]\n",
            "Downloading http://nlp.stanford.edu/software/stanza/1.0.0/en/ner/i2b2.pt: 100%|██████████| 123M/123M [00:07<00:00, 15.9MB/s]\n",
            "Downloading http://nlp.stanford.edu/software/stanza/1.0.0/en/pretrain/mimic.pt: 100%|██████████| 123M/123M [00:08<00:00, 15.2MB/s]\n",
            "Downloading http://nlp.stanford.edu/software/stanza/1.0.0/en/backward_charlm/mimic.pt: 100%|██████████| 18.9M/18.9M [00:02<00:00, 8.77MB/s]\n",
            "Downloading http://nlp.stanford.edu/software/stanza/1.0.0/en/forward_charlm/mimic.pt: 100%|██████████| 18.9M/18.9M [00:02<00:00, 8.94MB/s]\n",
            "2020-08-09 19:38:19 INFO: Finished downloading models and saved to /root/stanza_resources.\n",
            "2020-08-09 19:38:19 INFO: Loading these models for language: en (English):\n",
            "=======================\n",
            "| Processor | Package |\n",
            "-----------------------\n",
            "| tokenize  | mimic   |\n",
            "| pos       | mimic   |\n",
            "| lemma     | mimic   |\n",
            "| depparse  | mimic   |\n",
            "| ner       | i2b2    |\n",
            "=======================\n",
            "\n",
            "2020-08-09 19:38:19 INFO: Use device: cpu\n",
            "2020-08-09 19:38:19 INFO: Loading: tokenize\n",
            "2020-08-09 19:38:19 INFO: Loading: pos\n",
            "2020-08-09 19:38:20 INFO: Loading: lemma\n",
            "2020-08-09 19:38:20 INFO: Loading: depparse\n",
            "2020-08-09 19:38:21 INFO: Loading: ner\n",
            "2020-08-09 19:38:22 INFO: Done loading processors!\n"
          ],
          "name": "stderr"
        }
      ]
    },
    {
      "cell_type": "code",
      "metadata": {
        "id": "YvVU1GZdSqwz",
        "colab_type": "code",
        "colab": {
          "base_uri": "https://localhost:8080/",
          "height": 50
        },
        "outputId": "e5ea91df-540a-4633-c5e1-ef6c13cbf254"
      },
      "source": [
        "doc = nlp('The patient had a sore throat and was treated with Cepacol lozenges.')\n",
        "# print out all entities\n",
        "for ent in doc.entities:\n",
        "    print(f'{ent.text}\\t{ent.type}')"
      ],
      "execution_count": 6,
      "outputs": [
        {
          "output_type": "stream",
          "text": [
            "a sore throat\tPROBLEM\n",
            "Cepacol lozenges\tTREATMENT\n"
          ],
          "name": "stdout"
        }
      ]
    },
    {
      "cell_type": "code",
      "metadata": {
        "id": "7-P458QcTEYB",
        "colab_type": "code",
        "colab": {
          "base_uri": "https://localhost:8080/",
          "height": 50
        },
        "outputId": "24b29f71-a326-4848-ae8f-66fa534302a8"
      },
      "source": [
        "doc = nlp('I have a back ache and I feel nauseous.')\n",
        "# print out all entities\n",
        "for ent in doc.entities:\n",
        "    print(f'{ent.text}\\t{ent.type}')"
      ],
      "execution_count": null,
      "outputs": [
        {
          "output_type": "stream",
          "text": [
            "a back ache\tPROBLEM\n",
            "nauseous\tPROBLEM\n"
          ],
          "name": "stdout"
        }
      ]
    },
    {
      "cell_type": "code",
      "metadata": {
        "id": "2HVeTTYZTNMH",
        "colab_type": "code",
        "colab": {
          "base_uri": "https://localhost:8080/",
          "height": 34
        },
        "outputId": "46d03bd0-5c6d-4ee5-b6ee-151370f09529"
      },
      "source": [
        "doc = nlp('I think I have COVID-19 ')\n",
        "# print out all entities\n",
        "for ent in doc.entities:\n",
        "    print(f'{ent.text}\\t{ent.type}')"
      ],
      "execution_count": null,
      "outputs": [
        {
          "output_type": "stream",
          "text": [
            "COVID\tTEST\n"
          ],
          "name": "stdout"
        }
      ]
    },
    {
      "cell_type": "code",
      "metadata": {
        "id": "u8JPWyLzaN9q",
        "colab_type": "code",
        "colab": {
          "base_uri": "https://localhost:8080/",
          "height": 722
        },
        "outputId": "56ed1685-9aa6-4d6d-b928-dbf892e6511a"
      },
      "source": [
        "stanza.download('en', package='mimic', processors={'ner': 'anatem'})\n",
        "anat =  stanza.Pipeline('en', package='mimic', processors={'ner': 'anatem'})\n"
      ],
      "execution_count": 7,
      "outputs": [
        {
          "output_type": "stream",
          "text": [
            "Downloading https://raw.githubusercontent.com/stanfordnlp/stanza-resources/master/resources_1.0.0.json: 120kB [00:00, 11.7MB/s]                    \n",
            "2020-08-09 19:38:23 INFO: Downloading these customized packages for language: en (English)...\n",
            "=============================\n",
            "| Processor       | Package |\n",
            "-----------------------------\n",
            "| tokenize        | mimic   |\n",
            "| pos             | mimic   |\n",
            "| lemma           | mimic   |\n",
            "| depparse        | mimic   |\n",
            "| ner             | anatem  |\n",
            "| pretrain        | mimic   |\n",
            "| backward_charlm | pubmed  |\n",
            "| forward_charlm  | pubmed  |\n",
            "=============================\n",
            "\n",
            "2020-08-09 19:38:23 INFO: File exists: /root/stanza_resources/en/tokenize/mimic.pt.\n",
            "2020-08-09 19:38:23 INFO: File exists: /root/stanza_resources/en/pos/mimic.pt.\n",
            "2020-08-09 19:38:23 INFO: File exists: /root/stanza_resources/en/lemma/mimic.pt.\n",
            "2020-08-09 19:38:23 INFO: File exists: /root/stanza_resources/en/depparse/mimic.pt.\n",
            "Downloading http://nlp.stanford.edu/software/stanza/1.0.0/en/ner/anatem.pt: 100%|██████████| 123M/123M [00:05<00:00, 22.8MB/s]\n",
            "2020-08-09 19:38:30 INFO: File exists: /root/stanza_resources/en/pretrain/mimic.pt.\n",
            "Downloading http://nlp.stanford.edu/software/stanza/1.0.0/en/backward_charlm/pubmed.pt: 100%|██████████| 19.7M/19.7M [00:01<00:00, 10.1MB/s]\n",
            "Downloading http://nlp.stanford.edu/software/stanza/1.0.0/en/forward_charlm/pubmed.pt: 100%|██████████| 19.7M/19.7M [00:01<00:00, 14.8MB/s]\n",
            "2020-08-09 19:38:34 INFO: Finished downloading models and saved to /root/stanza_resources.\n",
            "2020-08-09 19:38:34 INFO: Loading these models for language: en (English):\n",
            "=======================\n",
            "| Processor | Package |\n",
            "-----------------------\n",
            "| tokenize  | mimic   |\n",
            "| pos       | mimic   |\n",
            "| lemma     | mimic   |\n",
            "| depparse  | mimic   |\n",
            "| ner       | anatem  |\n",
            "=======================\n",
            "\n",
            "2020-08-09 19:38:34 INFO: Use device: cpu\n",
            "2020-08-09 19:38:34 INFO: Loading: tokenize\n",
            "2020-08-09 19:38:34 INFO: Loading: pos\n",
            "2020-08-09 19:38:35 INFO: Loading: lemma\n",
            "2020-08-09 19:38:35 INFO: Loading: depparse\n",
            "2020-08-09 19:38:36 INFO: Loading: ner\n",
            "2020-08-09 19:38:37 INFO: Done loading processors!\n"
          ],
          "name": "stderr"
        }
      ]
    },
    {
      "cell_type": "code",
      "metadata": {
        "id": "sB4k-jq8fJ5T",
        "colab_type": "code",
        "colab": {}
      },
      "source": [
        "import re\n",
        "import spacy\n",
        "parse = spacy.load(\"en_core_web_sm\")"
      ],
      "execution_count": 66,
      "outputs": []
    },
    {
      "cell_type": "code",
      "metadata": {
        "id": "jE4bWWvJ8P0h",
        "colab_type": "code",
        "colab": {}
      },
      "source": [
        "common_adjectives = {'abdominal','acute','anterior','anxiolytic','arthropathy','autologous','benign','bilateral','biological','central','cerebral',\n",
        " 'cerebrovascular','cervical','chorioretinal','chronic','classical','classified','congenital','corneal','coronary','cutaneous','deep','diabetic','dominant','due',\n",
        " 'external','follicular','foreign','hypnotic','idiopathic','induced','infectious','infective','inflammatory','inguinal','intermittent','interstitial','intestinal',\n",
        " 'intracranial','intractable','joint','juvenile','lacrimal','large','lateral','left','lower','lumbosacral','macular','malignant','middle',\n",
        " 'mild','moderate','multiple','native','nervous','non','nontraumatic','old','optic','other','paralytic','parasitic','partial','peripheral',\n",
        " 'post','posterior','postprocedural','primary','psychoactive','psychotic','pulmonary','recurrent','renal','respiratory','retained','retinal','rheumatoid','right',\n",
        " 'secondary','sedative','severe','small','soft','specific','specified','spinal','spontaneous','subarachnoid','systemic','traumatic',\n",
        " 'ulcerative','uncertain','uncomplicated','unilateral','unspecified','upper','viral', 'visual'}"
      ],
      "execution_count": 67,
      "outputs": []
    },
    {
      "cell_type": "code",
      "metadata": {
        "id": "mzlj-OG8TUBz",
        "colab_type": "code",
        "colab": {}
      },
      "source": [
        "text = '''\n",
        "CHIEF COMPLAINT: Pain and swelling in abdomen\n",
        "\n",
        "HISTORY OF PRESENT ILLNESS: Patient is a 67-year-old female presents to the emergency room with sharp, shooting pain in her lower abdomen and pronounced swelling. Patient is nauseous, has vomited, and has a fever. Abdomen is firm and slightly distended. Patient states she has no history of abdominal problems, disease, or hernia.\n",
        "\n",
        "PAST MEDICAL HISTORY: Patient is on a program of anti-depressants, but is otherwise physically sound. States she has never been admitted for any abdominal problems.\n",
        "\n",
        "CURRENT MEDICATIONS: Wellbutrin, 5 mg daily\n",
        "\n",
        "ALLERGIES: None\n",
        "\n",
        "SOCIAL HISTORY: Used to smoke (using Wellbutrin to quit) and does not drink\n",
        "\n",
        "REVIEW OF SYMPTOMS: As above\n",
        "\n",
        "PHYSICAL EXAMINATION:\n",
        "Vital Signs: Blood pressure is 150/88, with a fever of 102 degrees.\n",
        "Skin: Warm and dry and normal, except in lower abdomen, where it is swollen and tight\n",
        "Chest: no respiratory problems detected\n",
        "Cardiac: regular rhythm\n",
        "Back: No abnormalities detected\n",
        "Abdomen: is firm above the pelvic bones. Patient experiences pain upon palpation. Blumberg sign elicits painful response, as does a forced cough. Abdomen is tight and swollen.\n",
        "\n",
        "INTERVENTION: Physical examination suggests appendicitis. Ultrasound test ordered, and diagnosis of appendicitis is confirmed. Patient is rushed to surgery and is prepped for general anesthesia. Once anesthetized, patient receives appendectomy via laparoscopy. Exploration during surgery reveals no signs of peritonitis, local or general. Following surgery, patient is taken to observation room, and then to hospital room. Patient responds well to surgery, and is discharged later that night with a prescription for pain medication.\n",
        "\n",
        "Diagnosis: Acute appendicitis\n",
        "'''\n",
        "\n",
        "problems = []\n",
        "anatomy = set()\n",
        "\n",
        "doc = nlp(text)\n",
        "# print out all entities\n",
        "for ent in doc.entities:\n",
        "  if ent.type == 'PROBLEM':\n",
        "    #print(f'{ent.text}')\n",
        "    problems.append(re.sub('[^A-Za-z0-9]+', ' ', ent.text))\n",
        "\n",
        "\n",
        "doc = anat(text) \n",
        "for ent in doc.entities:\n",
        "  if ent.type == 'ANATOMY':\n",
        "    #print(f'{ent.text}')\n",
        "    anatomy.add(re.sub('[^A-Za-z0-9]+', ' ', ent.text))"
      ],
      "execution_count": 68,
      "outputs": []
    },
    {
      "cell_type": "code",
      "metadata": {
        "id": "nLgY9v-qbZu6",
        "colab_type": "code",
        "colab": {
          "base_uri": "https://localhost:8080/",
          "height": 454
        },
        "outputId": "60894f2f-b776-474b-c0b2-d9fe62d42526"
      },
      "source": [
        "problems"
      ],
      "execution_count": 69,
      "outputs": [
        {
          "output_type": "execute_result",
          "data": {
            "text/plain": [
              "['Pain',\n",
              " 'swelling in abdomen',\n",
              " 'sharp shooting pain in her lower abdomen',\n",
              " 'pronounced swelling',\n",
              " 'nauseous',\n",
              " 'vomited',\n",
              " 'a fever',\n",
              " 'firm',\n",
              " 'slightly distended',\n",
              " 'abdominal problems',\n",
              " 'disease',\n",
              " 'hernia',\n",
              " 'any abdominal problems',\n",
              " 'a fever',\n",
              " 'swollen',\n",
              " 'respiratory problems',\n",
              " 'abnormalities',\n",
              " 'firm above the pelvic bones',\n",
              " 'pain',\n",
              " 'painful response',\n",
              " 'a forced cough',\n",
              " 'swollen',\n",
              " 'appendicitis',\n",
              " 'appendicitis',\n",
              " 'peritonitis',\n",
              " 'Acute appendicitis']"
            ]
          },
          "metadata": {
            "tags": []
          },
          "execution_count": 69
        }
      ]
    },
    {
      "cell_type": "code",
      "metadata": {
        "id": "H4JK-Tc9bfTY",
        "colab_type": "code",
        "colab": {}
      },
      "source": [
        "#anatomy\n",
        "to_look_for = set()"
      ],
      "execution_count": 70,
      "outputs": []
    },
    {
      "cell_type": "code",
      "metadata": {
        "id": "P6DiC0Gxh4d_",
        "colab_type": "code",
        "colab": {
          "base_uri": "https://localhost:8080/",
          "height": 101
        },
        "outputId": "8c7bfad1-04bc-4497-e445-b577f2d27eba"
      },
      "source": [
        "for i in problems:\n",
        "  #print(i, ':')\n",
        "  doc = parse(i.lower())\n",
        "  word = ''\n",
        "  for tok in doc:\n",
        "    if tok.pos_ == 'ADJ' and str(tok) not in anatomy and str(tok) not in common_adjectives:\n",
        "      print(str(tok))\n",
        "      #pass\n",
        "    else:\n",
        "      word += str(tok)\n",
        "      word += ' '\n",
        "  to_look_for.add(word)\n",
        "  "
      ],
      "execution_count": 71,
      "outputs": [
        {
          "output_type": "stream",
          "text": [
            "sharp\n",
            "nauseous\n",
            "firm\n",
            "pelvic\n",
            "painful\n"
          ],
          "name": "stdout"
        }
      ]
    },
    {
      "cell_type": "code",
      "metadata": {
        "id": "KJK0d7kKm-q5",
        "colab_type": "code",
        "colab": {
          "base_uri": "https://localhost:8080/",
          "height": 370
        },
        "outputId": "90e55ceb-8b6e-408c-8b32-11bd15623508"
      },
      "source": [
        "to_look_for"
      ],
      "execution_count": 72,
      "outputs": [
        {
          "output_type": "execute_result",
          "data": {
            "text/plain": [
              "{'',\n",
              " 'a fever ',\n",
              " 'a forced cough ',\n",
              " 'abdominal problems ',\n",
              " 'abnormalities ',\n",
              " 'acute appendicitis ',\n",
              " 'any abdominal problems ',\n",
              " 'appendicitis ',\n",
              " 'disease ',\n",
              " 'firm above the bones ',\n",
              " 'hernia ',\n",
              " 'pain ',\n",
              " 'peritonitis ',\n",
              " 'pronounced swelling ',\n",
              " 'respiratory problems ',\n",
              " 'response ',\n",
              " 'shooting pain in her lower abdomen ',\n",
              " 'slightly distended ',\n",
              " 'swelling in abdomen ',\n",
              " 'swollen ',\n",
              " 'vomited '}"
            ]
          },
          "metadata": {
            "tags": []
          },
          "execution_count": 72
        }
      ]
    },
    {
      "cell_type": "code",
      "metadata": {
        "id": "7EO4ARwXm-ti",
        "colab_type": "code",
        "colab": {
          "base_uri": "https://localhost:8080/",
          "height": 168
        },
        "outputId": "ba80aa67-1442-4a45-8ea7-deb2807c9565"
      },
      "source": [
        "anatomy"
      ],
      "execution_count": 73,
      "outputs": [
        {
          "output_type": "execute_result",
          "data": {
            "text/plain": [
              "{'Blood',\n",
              " 'Cardiac',\n",
              " 'Skin',\n",
              " 'abdomen',\n",
              " 'abdominal',\n",
              " 'hernia',\n",
              " 'lower abdomen',\n",
              " 'pelvic bones',\n",
              " 'respiratory'}"
            ]
          },
          "metadata": {
            "tags": []
          },
          "execution_count": 73
        }
      ]
    },
    {
      "cell_type": "code",
      "metadata": {
        "id": "X15inAxa7zRp",
        "colab_type": "code",
        "colab": {}
      },
      "source": [
        ""
      ],
      "execution_count": null,
      "outputs": []
    }
  ]
}