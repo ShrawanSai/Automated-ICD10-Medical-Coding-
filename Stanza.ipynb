{
  "nbformat": 4,
  "nbformat_minor": 0,
  "metadata": {
    "colab": {
      "name": "Stanza",
      "provenance": [],
      "collapsed_sections": [],
      "authorship_tag": "ABX9TyMKU8zheNQFhqS+iXHVrLyn",
      "include_colab_link": true
    },
    "kernelspec": {
      "name": "python3",
      "display_name": "Python 3"
    }
  },
  "cells": [
    {
      "cell_type": "markdown",
      "metadata": {
        "id": "view-in-github",
        "colab_type": "text"
      },
      "source": [
        "<a href=\"https://colab.research.google.com/github/ShrawanSai/Automated-ICD10-Medical-Coding-/blob/master/Stanza.ipynb\" target=\"_parent\"><img src=\"https://colab.research.google.com/assets/colab-badge.svg\" alt=\"Open In Colab\"/></a>"
      ]
    },
    {
      "cell_type": "code",
      "metadata": {
        "id": "3X4GujQWQkxZ",
        "colab_type": "code",
        "colab": {
          "base_uri": "https://localhost:8080/",
          "height": 302
        },
        "outputId": "148a6f92-4355-49b5-a3d3-14dd26cc3c9b"
      },
      "source": [
        "!pip install stanza"
      ],
      "execution_count": null,
      "outputs": [
        {
          "output_type": "stream",
          "text": [
            "Collecting stanza\n",
            "\u001b[?25l  Downloading https://files.pythonhosted.org/packages/27/9c/60689521a971a57dd02d2925105efedefa9dccd76c9a0b92566683d43e89/stanza-1.0.1-py3-none-any.whl (193kB)\n",
            "\u001b[K     |████████████████████████████████| 194kB 2.7MB/s \n",
            "\u001b[?25hRequirement already satisfied: numpy in /usr/local/lib/python3.6/dist-packages (from stanza) (1.18.5)\n",
            "Requirement already satisfied: protobuf in /usr/local/lib/python3.6/dist-packages (from stanza) (3.12.4)\n",
            "Requirement already satisfied: torch>=1.3.0 in /usr/local/lib/python3.6/dist-packages (from stanza) (1.6.0+cu101)\n",
            "Requirement already satisfied: tqdm in /usr/local/lib/python3.6/dist-packages (from stanza) (4.41.1)\n",
            "Requirement already satisfied: requests in /usr/local/lib/python3.6/dist-packages (from stanza) (2.23.0)\n",
            "Requirement already satisfied: setuptools in /usr/local/lib/python3.6/dist-packages (from protobuf->stanza) (49.2.0)\n",
            "Requirement already satisfied: six>=1.9 in /usr/local/lib/python3.6/dist-packages (from protobuf->stanza) (1.15.0)\n",
            "Requirement already satisfied: future in /usr/local/lib/python3.6/dist-packages (from torch>=1.3.0->stanza) (0.16.0)\n",
            "Requirement already satisfied: idna<3,>=2.5 in /usr/local/lib/python3.6/dist-packages (from requests->stanza) (2.10)\n",
            "Requirement already satisfied: chardet<4,>=3.0.2 in /usr/local/lib/python3.6/dist-packages (from requests->stanza) (3.0.4)\n",
            "Requirement already satisfied: certifi>=2017.4.17 in /usr/local/lib/python3.6/dist-packages (from requests->stanza) (2020.6.20)\n",
            "Requirement already satisfied: urllib3!=1.25.0,!=1.25.1,<1.26,>=1.21.1 in /usr/local/lib/python3.6/dist-packages (from requests->stanza) (1.24.3)\n",
            "Installing collected packages: stanza\n",
            "Successfully installed stanza-1.0.1\n"
          ],
          "name": "stdout"
        }
      ]
    },
    {
      "cell_type": "code",
      "metadata": {
        "id": "cSKYxPbCRqHW",
        "colab_type": "code",
        "colab": {
          "base_uri": "https://localhost:8080/",
          "height": 386
        },
        "outputId": "dc044a2b-7744-4efd-bf3e-9893530cc56c"
      },
      "source": [
        "import stanza\n",
        "stanza.download('en')       # This downloads the English models for the neural pipeline\n",
        "nlp = stanza.Pipeline('en') # This sets up a default neural pipeline in English\n"
      ],
      "execution_count": null,
      "outputs": [
        {
          "output_type": "stream",
          "text": [
            "Downloading https://raw.githubusercontent.com/stanfordnlp/stanza-resources/master/resources_1.0.0.json: 120kB [00:00, 10.1MB/s]                    \n",
            "2020-08-08 18:45:41 INFO: Downloading default packages for language: en (English)...\n",
            "Downloading http://nlp.stanford.edu/software/stanza/1.0.0/en/default.zip: 100%|██████████| 402M/402M [00:43<00:00, 9.28MB/s]\n",
            "2020-08-08 18:46:33 INFO: Finished downloading models and saved to /root/stanza_resources.\n",
            "2020-08-08 18:46:33 INFO: Loading these models for language: en (English):\n",
            "=========================\n",
            "| Processor | Package   |\n",
            "-------------------------\n",
            "| tokenize  | ewt       |\n",
            "| pos       | ewt       |\n",
            "| lemma     | ewt       |\n",
            "| depparse  | ewt       |\n",
            "| ner       | ontonotes |\n",
            "=========================\n",
            "\n",
            "2020-08-08 18:46:33 INFO: Use device: cpu\n",
            "2020-08-08 18:46:33 INFO: Loading: tokenize\n",
            "2020-08-08 18:46:33 INFO: Loading: pos\n",
            "2020-08-08 18:46:34 INFO: Loading: lemma\n",
            "2020-08-08 18:46:34 INFO: Loading: depparse\n",
            "2020-08-08 18:46:36 INFO: Loading: ner\n",
            "2020-08-08 18:46:36 INFO: Done loading processors!\n"
          ],
          "name": "stderr"
        }
      ]
    },
    {
      "cell_type": "code",
      "metadata": {
        "id": "vWtEq4zqSBqs",
        "colab_type": "code",
        "colab": {
          "base_uri": "https://localhost:8080/",
          "height": 134
        },
        "outputId": "d2faa6b3-b92d-48a8-ddf2-fe06ea2a101b"
      },
      "source": [
        "doc = nlp(\"Barack Obama was born in Hawaii.  He was elected president in 2008.\")\n",
        "doc.sentences[0].print_dependencies()"
      ],
      "execution_count": null,
      "outputs": [
        {
          "output_type": "stream",
          "text": [
            "('Barack', '4', 'nsubj:pass')\n",
            "('Obama', '1', 'flat')\n",
            "('was', '4', 'aux:pass')\n",
            "('born', '0', 'root')\n",
            "('in', '6', 'case')\n",
            "('Hawaii', '4', 'obl')\n",
            "('.', '4', 'punct')\n"
          ],
          "name": "stdout"
        }
      ]
    },
    {
      "cell_type": "code",
      "metadata": {
        "id": "ACm8WOO5SFA9",
        "colab_type": "code",
        "colab": {
          "base_uri": "https://localhost:8080/",
          "height": 34
        },
        "outputId": "b8d4c21a-3e82-4f92-c7a3-a4322a05d4af"
      },
      "source": [
        "doc = nlp('The patient had a sore throat and was treated with Cepacol lozenges.')\n",
        "# print out all entities\n",
        "for ent in doc.entities:\n",
        "    print(f'{ent.text}\\t{ent.type}')"
      ],
      "execution_count": null,
      "outputs": [
        {
          "output_type": "stream",
          "text": [
            "Cepacol\tPRODUCT\n"
          ],
          "name": "stdout"
        }
      ]
    },
    {
      "cell_type": "code",
      "metadata": {
        "id": "-dgwTu4ASkz0",
        "colab_type": "code",
        "colab": {
          "base_uri": "https://localhost:8080/",
          "height": 722
        },
        "outputId": "1a2e9071-c8bc-4a51-cd1e-57d97e5db150"
      },
      "source": [
        "stanza.download('en', package='mimic', processors={'ner': 'i2b2'})\n",
        "nlp = stanza.Pipeline('en', package='mimic', processors={'ner': 'i2b2'})"
      ],
      "execution_count": null,
      "outputs": [
        {
          "output_type": "stream",
          "text": [
            "Downloading https://raw.githubusercontent.com/stanfordnlp/stanza-resources/master/resources_1.0.0.json: 120kB [00:00, 9.03MB/s]                    \n",
            "2020-08-08 18:46:43 INFO: Downloading these customized packages for language: en (English)...\n",
            "=============================\n",
            "| Processor       | Package |\n",
            "-----------------------------\n",
            "| tokenize        | mimic   |\n",
            "| pos             | mimic   |\n",
            "| lemma           | mimic   |\n",
            "| depparse        | mimic   |\n",
            "| ner             | i2b2    |\n",
            "| pretrain        | mimic   |\n",
            "| forward_charlm  | mimic   |\n",
            "| backward_charlm | mimic   |\n",
            "=============================\n",
            "\n",
            "Downloading http://nlp.stanford.edu/software/stanza/1.0.0/en/tokenize/mimic.pt: 100%|██████████| 631k/631k [00:01<00:00, 334kB/s]\n",
            "Downloading http://nlp.stanford.edu/software/stanza/1.0.0/en/pos/mimic.pt: 100%|██████████| 20.8M/20.8M [00:06<00:00, 3.28MB/s]\n",
            "Downloading http://nlp.stanford.edu/software/stanza/1.0.0/en/lemma/mimic.pt: 100%|██████████| 4.19M/4.19M [00:04<00:00, 1.04MB/s]\n",
            "Downloading http://nlp.stanford.edu/software/stanza/1.0.0/en/depparse/mimic.pt: 100%|██████████| 109M/109M [00:18<00:00, 5.73MB/s]\n",
            "Downloading http://nlp.stanford.edu/software/stanza/1.0.0/en/ner/i2b2.pt: 100%|██████████| 123M/123M [00:18<00:00, 6.57MB/s]\n",
            "Downloading http://nlp.stanford.edu/software/stanza/1.0.0/en/pretrain/mimic.pt: 100%|██████████| 123M/123M [00:20<00:00, 5.91MB/s]\n",
            "Downloading http://nlp.stanford.edu/software/stanza/1.0.0/en/forward_charlm/mimic.pt: 100%|██████████| 18.9M/18.9M [00:10<00:00, 1.87MB/s]\n",
            "Downloading http://nlp.stanford.edu/software/stanza/1.0.0/en/backward_charlm/mimic.pt: 100%|██████████| 18.9M/18.9M [00:06<00:00, 2.91MB/s]\n",
            "2020-08-08 18:48:25 INFO: Finished downloading models and saved to /root/stanza_resources.\n",
            "2020-08-08 18:48:25 INFO: Loading these models for language: en (English):\n",
            "=======================\n",
            "| Processor | Package |\n",
            "-----------------------\n",
            "| tokenize  | mimic   |\n",
            "| pos       | mimic   |\n",
            "| lemma     | mimic   |\n",
            "| depparse  | mimic   |\n",
            "| ner       | i2b2    |\n",
            "=======================\n",
            "\n",
            "2020-08-08 18:48:25 INFO: Use device: cpu\n",
            "2020-08-08 18:48:25 INFO: Loading: tokenize\n",
            "2020-08-08 18:48:25 INFO: Loading: pos\n",
            "2020-08-08 18:48:26 INFO: Loading: lemma\n",
            "2020-08-08 18:48:26 INFO: Loading: depparse\n",
            "2020-08-08 18:48:27 INFO: Loading: ner\n",
            "2020-08-08 18:48:28 INFO: Done loading processors!\n"
          ],
          "name": "stderr"
        }
      ]
    },
    {
      "cell_type": "code",
      "metadata": {
        "id": "YvVU1GZdSqwz",
        "colab_type": "code",
        "colab": {
          "base_uri": "https://localhost:8080/",
          "height": 50
        },
        "outputId": "94118eb7-8739-4737-d136-b32cc932b172"
      },
      "source": [
        "doc = nlp('The patient had a sore throat and was treated with Cepacol lozenges.')\n",
        "# print out all entities\n",
        "for ent in doc.entities:\n",
        "    print(f'{ent.text}\\t{ent.type}')"
      ],
      "execution_count": null,
      "outputs": [
        {
          "output_type": "stream",
          "text": [
            "a sore throat\tPROBLEM\n",
            "Cepacol lozenges\tTREATMENT\n"
          ],
          "name": "stdout"
        }
      ]
    },
    {
      "cell_type": "code",
      "metadata": {
        "id": "7-P458QcTEYB",
        "colab_type": "code",
        "colab": {
          "base_uri": "https://localhost:8080/",
          "height": 50
        },
        "outputId": "24b29f71-a326-4848-ae8f-66fa534302a8"
      },
      "source": [
        "doc = nlp('I have a back ache and I feel nauseous.')\n",
        "# print out all entities\n",
        "for ent in doc.entities:\n",
        "    print(f'{ent.text}\\t{ent.type}')"
      ],
      "execution_count": null,
      "outputs": [
        {
          "output_type": "stream",
          "text": [
            "a back ache\tPROBLEM\n",
            "nauseous\tPROBLEM\n"
          ],
          "name": "stdout"
        }
      ]
    },
    {
      "cell_type": "code",
      "metadata": {
        "id": "2HVeTTYZTNMH",
        "colab_type": "code",
        "colab": {
          "base_uri": "https://localhost:8080/",
          "height": 34
        },
        "outputId": "46d03bd0-5c6d-4ee5-b6ee-151370f09529"
      },
      "source": [
        "doc = nlp('I think I have COVID-19 ')\n",
        "# print out all entities\n",
        "for ent in doc.entities:\n",
        "    print(f'{ent.text}\\t{ent.type}')"
      ],
      "execution_count": null,
      "outputs": [
        {
          "output_type": "stream",
          "text": [
            "COVID\tTEST\n"
          ],
          "name": "stdout"
        }
      ]
    },
    {
      "cell_type": "code",
      "metadata": {
        "id": "u8JPWyLzaN9q",
        "colab_type": "code",
        "colab": {
          "base_uri": "https://localhost:8080/",
          "height": 722
        },
        "outputId": "c92412eb-5e86-4e51-8c97-ce9e30e42063"
      },
      "source": [
        "stanza.download('en', package='mimic', processors={'ner': 'anatem'})\n",
        "anat =  stanza.Pipeline('en', package='mimic', processors={'ner': 'anatem'})\n"
      ],
      "execution_count": null,
      "outputs": [
        {
          "output_type": "stream",
          "text": [
            "Downloading https://raw.githubusercontent.com/stanfordnlp/stanza-resources/master/resources_1.0.0.json: 120kB [00:00, 9.61MB/s]                    \n",
            "2020-08-08 19:22:46 INFO: Downloading these customized packages for language: en (English)...\n",
            "=============================\n",
            "| Processor       | Package |\n",
            "-----------------------------\n",
            "| tokenize        | mimic   |\n",
            "| pos             | mimic   |\n",
            "| lemma           | mimic   |\n",
            "| depparse        | mimic   |\n",
            "| ner             | anatem  |\n",
            "| pretrain        | mimic   |\n",
            "| forward_charlm  | pubmed  |\n",
            "| backward_charlm | pubmed  |\n",
            "=============================\n",
            "\n",
            "2020-08-08 19:22:46 INFO: File exists: /root/stanza_resources/en/tokenize/mimic.pt.\n",
            "2020-08-08 19:22:47 INFO: File exists: /root/stanza_resources/en/pos/mimic.pt.\n",
            "2020-08-08 19:22:47 INFO: File exists: /root/stanza_resources/en/lemma/mimic.pt.\n",
            "2020-08-08 19:22:47 INFO: File exists: /root/stanza_resources/en/depparse/mimic.pt.\n",
            "Downloading http://nlp.stanford.edu/software/stanza/1.0.0/en/ner/anatem.pt: 100%|██████████| 123M/123M [00:18<00:00, 6.58MB/s]\n",
            "2020-08-08 19:23:08 INFO: File exists: /root/stanza_resources/en/pretrain/mimic.pt.\n",
            "Downloading http://nlp.stanford.edu/software/stanza/1.0.0/en/forward_charlm/pubmed.pt: 100%|██████████| 19.7M/19.7M [00:11<00:00, 1.72MB/s]\n",
            "Downloading http://nlp.stanford.edu/software/stanza/1.0.0/en/backward_charlm/pubmed.pt: 100%|██████████| 19.7M/19.7M [00:06<00:00, 3.24MB/s]\n",
            "2020-08-08 19:23:28 INFO: Finished downloading models and saved to /root/stanza_resources.\n",
            "2020-08-08 19:23:28 INFO: Loading these models for language: en (English):\n",
            "=======================\n",
            "| Processor | Package |\n",
            "-----------------------\n",
            "| tokenize  | mimic   |\n",
            "| pos       | mimic   |\n",
            "| lemma     | mimic   |\n",
            "| depparse  | mimic   |\n",
            "| ner       | anatem  |\n",
            "=======================\n",
            "\n",
            "2020-08-08 19:23:28 INFO: Use device: cpu\n",
            "2020-08-08 19:23:28 INFO: Loading: tokenize\n",
            "2020-08-08 19:23:29 INFO: Loading: pos\n",
            "2020-08-08 19:23:29 INFO: Loading: lemma\n",
            "2020-08-08 19:23:29 INFO: Loading: depparse\n",
            "2020-08-08 19:23:31 INFO: Loading: ner\n",
            "2020-08-08 19:23:31 INFO: Done loading processors!\n"
          ],
          "name": "stderr"
        }
      ]
    },
    {
      "cell_type": "code",
      "metadata": {
        "id": "sB4k-jq8fJ5T",
        "colab_type": "code",
        "colab": {}
      },
      "source": [
        "import re"
      ],
      "execution_count": null,
      "outputs": []
    },
    {
      "cell_type": "code",
      "metadata": {
        "id": "mzlj-OG8TUBz",
        "colab_type": "code",
        "colab": {}
      },
      "source": [
        "text = '''\n",
        "Due to ailing health, Jane’s grandfather will be moving in with her in a few months. To understand what care is needed,\n",
        "Jane escorted her grandfather to his doctor appointment for the first time. The doctor told Jane that her grandfather\n",
        "was being treated for mild nonproliferative diabetic retinopathy with macular edema. He has type 2 diabetes and takes\n",
        "insulin on a daily basis. He has also developed diabetic cataract in his right eye.\n",
        "'''\n",
        "\n",
        "problems = []\n",
        "anatomy = set()\n",
        "\n",
        "doc = nlp(text)\n",
        "# print out all entities\n",
        "for ent in doc.entities:\n",
        "  if ent.type == 'PROBLEM':\n",
        "    #print(f'{ent.text}')\n",
        "    problems.append(re.sub('[^A-Za-z0-9]+', ' ', ent.text))\n",
        "\n",
        "\n",
        "doc = anat(text) \n",
        "for ent in doc.entities:\n",
        "  if ent.type == 'ANATOMY':\n",
        "    #print(f'{ent.text}')\n",
        "    anatomy.add(re.sub('[^A-Za-z0-9]+', ' ', ent.text))"
      ],
      "execution_count": null,
      "outputs": []
    },
    {
      "cell_type": "code",
      "metadata": {
        "id": "nLgY9v-qbZu6",
        "colab_type": "code",
        "colab": {
          "base_uri": "https://localhost:8080/",
          "height": 84
        },
        "outputId": "6cb0dfb1-dedf-41db-f93e-92f88a6b24b5"
      },
      "source": [
        "problems"
      ],
      "execution_count": null,
      "outputs": [
        {
          "output_type": "execute_result",
          "data": {
            "text/plain": [
              "['mild nonproliferative diabetic retinopathy',\n",
              " 'macular edema',\n",
              " 'type 2 diabetes',\n",
              " 'diabetic cataract in his right eye']"
            ]
          },
          "metadata": {
            "tags": []
          },
          "execution_count": 103
        }
      ]
    },
    {
      "cell_type": "code",
      "metadata": {
        "id": "H4JK-Tc9bfTY",
        "colab_type": "code",
        "colab": {}
      },
      "source": [
        "#anatomy\n",
        "to_look_for = set()"
      ],
      "execution_count": null,
      "outputs": []
    },
    {
      "cell_type": "code",
      "metadata": {
        "id": "P6DiC0Gxh4d_",
        "colab_type": "code",
        "colab": {}
      },
      "source": [
        "for i in problems:\n",
        "  #print(i, ':')\n",
        "  doc = parse(i)\n",
        "  word = ''\n",
        "  for tok in doc:\n",
        "    if tok.pos_ == 'ADJ' and str(tok) not in anatomy:\n",
        "      pass\n",
        "    else:\n",
        "      word += str(tok)\n",
        "      word += ' '\n",
        "  to_look_for.add(word)\n",
        "  "
      ],
      "execution_count": null,
      "outputs": []
    },
    {
      "cell_type": "code",
      "metadata": {
        "id": "KJK0d7kKm-q5",
        "colab_type": "code",
        "colab": {
          "base_uri": "https://localhost:8080/",
          "height": 34
        },
        "outputId": "8147e238-0f11-41a9-8b63-3920a245c587"
      },
      "source": [
        "to_look_for"
      ],
      "execution_count": null,
      "outputs": [
        {
          "output_type": "execute_result",
          "data": {
            "text/plain": [
              "{'cataract in his eye ', 'macular edema ', 'retinopathy ', 'type 2 diabetes '}"
            ]
          },
          "metadata": {
            "tags": []
          },
          "execution_count": 106
        }
      ]
    },
    {
      "cell_type": "code",
      "metadata": {
        "id": "7EO4ARwXm-ti",
        "colab_type": "code",
        "colab": {
          "base_uri": "https://localhost:8080/",
          "height": 34
        },
        "outputId": "20863fca-0ff5-4015-8922-4c2d5d4d8193"
      },
      "source": [
        "anatomy"
      ],
      "execution_count": null,
      "outputs": [
        {
          "output_type": "execute_result",
          "data": {
            "text/plain": [
              "{'macular', 'right eye'}"
            ]
          },
          "metadata": {
            "tags": []
          },
          "execution_count": 107
        }
      ]
    },
    {
      "cell_type": "code",
      "metadata": {
        "id": "XsyWAuyvm-wK",
        "colab_type": "code",
        "colab": {}
      },
      "source": [
        ""
      ],
      "execution_count": null,
      "outputs": []
    },
    {
      "cell_type": "code",
      "metadata": {
        "id": "ql2pvBhLijit",
        "colab_type": "code",
        "colab": {}
      },
      "source": [
        "import spacy"
      ],
      "execution_count": null,
      "outputs": []
    },
    {
      "cell_type": "code",
      "metadata": {
        "id": "cL7nkcU_j8eE",
        "colab_type": "code",
        "colab": {}
      },
      "source": [
        "parse = spacy.load(\"en_core_web_sm\")"
      ],
      "execution_count": null,
      "outputs": []
    },
    {
      "cell_type": "code",
      "metadata": {
        "id": "U30L-AaLkLf7",
        "colab_type": "code",
        "colab": {}
      },
      "source": [
        ""
      ],
      "execution_count": null,
      "outputs": []
    }
  ]
}